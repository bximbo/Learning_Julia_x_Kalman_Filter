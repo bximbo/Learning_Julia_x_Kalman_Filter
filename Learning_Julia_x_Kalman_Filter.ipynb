{
 "cells": [
  {
   "cell_type": "code",
   "execution_count": 1,
   "id": "b0c3b6ad-1299-4c06-b638-1dcd951659cd",
   "metadata": {},
   "outputs": [
    {
     "name": "stdout",
     "output_type": "stream",
     "text": [
      "hello, Julia!\n"
     ]
    }
   ],
   "source": [
    "println(\"hello, Julia!\")"
   ]
  },
  {
   "cell_type": "code",
   "execution_count": 113,
   "id": "58decd41",
   "metadata": {
    "scrolled": true
   },
   "outputs": [
    {
     "name": "stdout",
     "output_type": "stream",
     "text": [
      "x = 2-element Vector{Float64}:\n",
      " 2.241935483870968\n",
      " 2.0806451612903225 \n",
      "p = 2×2 Matrix{Float64}:\n",
      " 0.00967742  0.00322581\n",
      " 0.00322581  0.167742"
     ]
    }
   ],
   "source": [
    "x1 = [2; 2]\n",
    "z = [2.25]\n",
    "y = z - H*x1\n",
    "H = [1 0]\n",
    "P = [0.3 0.1; 0.1 0.2]\n",
    "R = [0.01]\n",
    "s = H * P * transpose(H)+ R\n",
    "\n",
    "k = P * transpose(H) * s^-1\n",
    "\n",
    "x = x1 + k*y\n",
    "p = P - k * H * P\n",
    "\n",
    "print(\"x = \")\n",
    "\n",
    "show(IOContext(stdout, :limit=>false), MIME\"text/plain\"(), x)\n",
    "\n",
    "println(\" \")\n",
    "\n",
    "print(\"p = \")\n",
    "\n",
    "\n",
    "show(IOContext(stdout, :limit=>false), MIME\"text/plain\"(), p)"
   ]
  },
  {
   "cell_type": "code",
   "execution_count": 114,
   "id": "b4fbccdf",
   "metadata": {
    "scrolled": true
   },
   "outputs": [
    {
     "name": "stderr",
     "output_type": "stream",
     "text": [
      "\u001b[32m\u001b[1m   Resolving\u001b[22m\u001b[39m package versions...\n",
      "\u001b[32m\u001b[1m  No Changes\u001b[22m\u001b[39m to `~/.julia/environments/v1.6/Project.toml`\n",
      "\u001b[32m\u001b[1m  No Changes\u001b[22m\u001b[39m to `~/.julia/environments/v1.6/Manifest.toml`\n"
     ]
    },
    {
     "name": "stdout",
     "output_type": "stream",
     "text": [
      "Result of integration: 69.0\n",
      "Estimated error: 0.0\n"
     ]
    }
   ],
   "source": [
    "using Pkg\n",
    "Pkg.add(\"QuadGK\")\n",
    "\n",
    "using QuadGK\n",
    "\n",
    "# Define the function to be integrated\n",
    "f(x) = 2x\n",
    "\n",
    "# Integrate the function from 0 to 1\n",
    "result, error = quadgk(f, 10, 13)\n",
    "\n",
    "# Print the result\n",
    "println(\"Result of integration: $result\")\n",
    "println(\"Estimated error: $error\")\n"
   ]
  },
  {
   "cell_type": "code",
   "execution_count": 126,
   "id": "952854d4",
   "metadata": {},
   "outputs": [
    {
     "data": {
      "text/plain": [
       "3×3 Matrix{Int64}:\n",
       " -12   12    2\n",
       "  12  -12   -2\n",
       "   2   -2  -17"
      ]
     },
     "execution_count": 126,
     "metadata": {},
     "output_type": "execute_result"
    }
   ],
   "source": [
    "A= [3 2 2; 2 3 -2]\n",
    "transpose(A)\n",
    "B =  transpose(A)* A \n",
    "EV= B-25* [1 0 0; 0 1 0; 0 0 1]"
   ]
  },
  {
   "cell_type": "code",
   "execution_count": 6,
   "id": "27d8e84a",
   "metadata": {},
   "outputs": [
    {
     "ename": "LoadError",
     "evalue": "DomainError with 3.141592653589793:\nacos(x) not defined for |x| > 1",
     "output_type": "error",
     "traceback": [
      "DomainError with 3.141592653589793:\nacos(x) not defined for |x| > 1",
      "",
      "Stacktrace:",
      " [1] acos_domain_error(x::Float64)",
      "   @ Base.Math ./special/trig.jl:667",
      " [2] acos(x::Float64)",
      "   @ Base.Math ./special/trig.jl:697",
      " [3] acos(x::Irrational{:π})",
      "   @ Base.Math ./math.jl:407",
      " [4] top-level scope",
      "   @ In[6]:5"
     ]
    }
   ],
   "source": [
    "\n",
    "\n",
    "b = pi\n",
    "\n",
    "print(acos(b))\n",
    "\n"
   ]
  }
 ],
 "metadata": {
  "kernelspec": {
   "display_name": "Julia 1.6.7",
   "language": "julia",
   "name": "julia-1.6"
  },
  "language_info": {
   "file_extension": ".jl",
   "mimetype": "application/julia",
   "name": "julia",
   "version": "1.6.7"
  }
 },
 "nbformat": 4,
 "nbformat_minor": 5
}
